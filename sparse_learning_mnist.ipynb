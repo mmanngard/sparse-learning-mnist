{
  "cells": [
    {
      "cell_type": "markdown",
      "metadata": {
        "id": "view-in-github",
        "colab_type": "text"
      },
      "source": [
        "<a href=\"https://colab.research.google.com/github/mmanngard/sparse-learning-mnist/blob/main/sparse_learning_mnist.ipynb\" target=\"_parent\"><img src=\"https://colab.research.google.com/assets/colab-badge.svg\" alt=\"Open In Colab\"/></a>"
      ]
    },
    {
      "cell_type": "markdown",
      "metadata": {
        "id": "USSV_OlCFKOD"
      },
      "source": [
        "# Sparse Structural Learning on MNIST\n",
        "This simple example demonstrates how to plug TensorFlow Datasets (TFDS) into a Keras model and to enforse sparsity.\n"
      ]
    },
    {
      "cell_type": "markdown",
      "metadata": {
        "id": "J8y9ZkLXmAZc"
      },
      "source": [
        "Copyright 2020 The TensorFlow Datasets Authors, Licensed under the Apache License, Version 2.0"
      ]
    },
    {
      "cell_type": "markdown",
      "metadata": {
        "id": "OGw9EgE0tC0C"
      },
      "source": [
        "<table class=\"tfo-notebook-buttons\" align=\"left\">\n",
        "  <td>\n",
        "    <a target=\"_blank\" href=\"https://www.tensorflow.org/datasets/keras_example\"><img src=\"https://www.tensorflow.org/images/tf_logo_32px.png\" />View on TensorFlow.org</a>\n",
        "  </td>\n",
        "  <td>\n",
        "    <a target=\"_blank\" href=\"https://colab.research.google.com/github/tensorflow/datasets/blob/master/docs/keras_example.ipynb\"><img src=\"https://www.tensorflow.org/images/colab_logo_32px.png\" />Run in Google Colab</a>\n",
        "  </td>\n",
        "  <td>\n",
        "    <a target=\"_blank\" href=\"https://github.com/tensorflow/datasets/blob/master/docs/keras_example.ipynb\"><img src=\"https://www.tensorflow.org/images/GitHub-Mark-32px.png\" />View source on GitHub</a>\n",
        "  </td>\n",
        "  <td>\n",
        "    <a href=\"https://storage.googleapis.com/tensorflow_docs/datasets/docs/keras_example.ipynb\"><img src=\"https://www.tensorflow.org/images/download_logo_32px.png\" />Download notebook</a>\n",
        "  </td>\n",
        "</table>"
      ]
    },
    {
      "cell_type": "code",
      "execution_count": null,
      "metadata": {
        "id": "TTBSvHcSLBzc"
      },
      "outputs": [],
      "source": [
        "import tensorflow as tf\n",
        "import tensorflow_datasets as tfds\n",
        "import numpy as np\n"
      ]
    },
    {
      "cell_type": "markdown",
      "metadata": {
        "id": "VjI6VgOBf0v0"
      },
      "source": [
        "## Step 1: Create your input pipeline\n",
        "\n",
        "Start by building an efficient input pipeline using advices from:\n",
        "* The [Performance tips](https://www.tensorflow.org/datasets/performances) guide\n",
        "* The [Better performance with the `tf.data` API](https://www.tensorflow.org/guide/data_performance#optimize_performance) guide\n"
      ]
    },
    {
      "cell_type": "markdown",
      "metadata": {
        "id": "c3aH3vP_XLI8"
      },
      "source": [
        "### Load a dataset\n",
        "\n",
        "Load the MNIST dataset with the following arguments:\n",
        "\n",
        "* `shuffle_files=True`: The MNIST data is only stored in a single file, but for larger datasets with multiple files on disk, it's good practice to shuffle them when training.\n",
        "* `as_supervised=True`: Returns a tuple `(img, label)` instead of a dictionary `{'image': img, 'label': label}`."
      ]
    },
    {
      "cell_type": "code",
      "execution_count": null,
      "metadata": {
        "id": "ZUMhCXhFXdHQ"
      },
      "outputs": [],
      "source": [
        "(ds_train, ds_test), ds_info = tfds.load(\n",
        "    'mnist',\n",
        "    split=['train', 'test'],\n",
        "    shuffle_files=True,\n",
        "    as_supervised=True,\n",
        "    with_info=True,\n",
        ")"
      ]
    },
    {
      "cell_type": "markdown",
      "metadata": {
        "id": "rgwCFAcWXQTx"
      },
      "source": [
        "### Build a training pipeline\n",
        "\n",
        "Apply the following transformations:\n",
        "\n",
        "* `tf.data.Dataset.map`: TFDS provide images of type `tf.uint8`, while the model expects `tf.float32`. Therefore, you need to normalize images.\n",
        "* `tf.data.Dataset.cache` As you fit the dataset in memory, cache it before shuffling for a better performance.<br/>\n",
        "__Note:__ Random transformations should be applied after caching.\n",
        "* `tf.data.Dataset.shuffle`: For true randomness, set the shuffle buffer to the full dataset size.<br/>\n",
        "__Note:__ For large datasets that can't fit in memory, use `buffer_size=1000` if your system allows it.\n",
        "* `tf.data.Dataset.batch`: Batch elements of the dataset after shuffling to get unique batches at each epoch.\n",
        "* `tf.data.Dataset.prefetch`: It is good practice to end the pipeline by prefetching [for performance](https://www.tensorflow.org/guide/data_performance#prefetching)."
      ]
    },
    {
      "cell_type": "code",
      "execution_count": null,
      "metadata": {
        "id": "haykx2K9XgiI"
      },
      "outputs": [],
      "source": [
        "def normalize_img(image, label):\n",
        "  \"\"\"Normalizes images: `uint8` -> `float32`.\"\"\"\n",
        "  return tf.cast(image, tf.float32) / 255., label\n",
        "\n",
        "ds_train = ds_train.map(\n",
        "    normalize_img, num_parallel_calls=tf.data.AUTOTUNE)\n",
        "ds_train = ds_train.cache()\n",
        "ds_train = ds_train.shuffle(ds_info.splits['train'].num_examples)\n",
        "ds_train = ds_train.batch(128)\n",
        "ds_train = ds_train.prefetch(tf.data.AUTOTUNE)"
      ]
    },
    {
      "cell_type": "markdown",
      "metadata": {
        "id": "RbsMy4X1XVFv"
      },
      "source": [
        "### Build an evaluation pipeline\n",
        "\n",
        "Your testing pipeline is similar to the training pipeline with small differences:\n",
        "\n",
        " * You don't need to call `tf.data.Dataset.shuffle`.\n",
        " * Caching is done after batching because batches can be the same between epochs."
      ]
    },
    {
      "cell_type": "code",
      "execution_count": null,
      "metadata": {
        "id": "A0KjuDf7XiqY"
      },
      "outputs": [],
      "source": [
        "ds_test = ds_test.map(\n",
        "    normalize_img, num_parallel_calls=tf.data.AUTOTUNE)\n",
        "ds_test = ds_test.batch(128)\n",
        "ds_test = ds_test.cache()\n",
        "ds_test = ds_test.prefetch(tf.data.AUTOTUNE)"
      ]
    },
    {
      "cell_type": "markdown",
      "source": [
        "# Utils"
      ],
      "metadata": {
        "id": "zM4kkkBudgLl"
      }
    },
    {
      "cell_type": "code",
      "source": [
        "def inspect_weights(model, eps=1E-6):\n",
        "  for layer in model.layers:\n",
        "      if len(layer.get_weights()) > 0:  # Check if the layer has any weights (some layers, like Flatten, don't)\n",
        "          weights, biases = layer.get_weights()\n",
        "          shape = weights.shape\n",
        "          n_weights = shape[0]*shape[1]\n",
        "          n_non_zero = np.sum(np.abs(weights) <= eps)\n",
        "          print(f\"Layer {layer.name}:\")\n",
        "          print(f\"Weights shape: {weights.shape}\")\n",
        "          print(f\"# non-zero weights: {n_non_zero}/{n_weights}, {n_non_zero/n_weights * 100 :.2f} % sparse\")\n",
        "      else:\n",
        "          print(f\"Layer {layer.name} has no weights.\")\n",
        "\n",
        "# Custom weighted l1 regularizer\n",
        "class WeightedL1(tf.keras.regularizers.Regularizer):\n",
        "    def __init__(self, reweights, _lambda=0.001):\n",
        "        self.reweights = tf.convert_to_tensor(reweights, dtype=tf.float32)  # Reweighting matrix\n",
        "        self._lambda = _lambda  # Regularization strength (lambda)\n",
        "\n",
        "    def __call__(self,  weights):\n",
        "        # Element-wise product between the reweighting matrix and the weights\n",
        "        weighted_weights = tf.multiply( self.reweights, weights )\n",
        "\n",
        "        # Compute the L1 norm of the element-wise product and multiply by lambda\n",
        "        weighted_l1 = self._lambda * tf.reduce_sum(tf.abs(weighted_weights))\n",
        "        return weighted_l1\n",
        "\n",
        "    def get_config(self):\n",
        "        return {'reweighting': self.reweighting.numpy(), 'l1': self._lambda}\n",
        "\n",
        "def get_reweights(weights, eps=1E-6):\n",
        "  reweights = np.zeros_like(weights)\n",
        "  # If abs(weight) <= eps, set reweight to 1 / eps\n",
        "  # Otherwise, set reweight to 1 / weight\n",
        "  return np.where(np.abs(weights) > eps, 1 / weights, 1 / eps)\n",
        "\n",
        "def truncate_weights(model, layer_idx, eps=1E-4):\n",
        "  weights, biases = model.layers[layer_idx].get_weights()\n",
        "  # set weights to zero if <= eps\n",
        "  weights = np.where(np.abs(weights) <= eps, 0, weights)\n",
        "  # set weights in model\n",
        "  model.layers[layer_idx].set_weights([weights, biases])\n",
        "\n",
        "  return model\n",
        "\n",
        "def evaluate_model(model, ds_test):\n",
        "  # validate model\n",
        "  val_loss, val_accuracy = model.evaluate(ds_test)\n",
        "\n",
        "  return val_loss, val_accuracy\n",
        "\n",
        "def create_model(model_structure, reweighting):\n",
        "  model = tf.keras.models.Sequential()\n",
        "\n",
        "  # add input layer\n",
        "  model.add(tf.keras.layers.Flatten(input_shape=model_structure['input_shape']))\n",
        "  # create dense layers and add regularization if layer is sparse\n",
        "\n",
        "  for i in range(model_structure['n_layers']):\n",
        "    # model parameters\n",
        "    n_nodes = model_structure['layer_structure'][i]\n",
        "    activation = model_structure['layer_activation'][i]\n",
        "    sparse_layer = model_structure['sparse_layer'][i]\n",
        "\n",
        "    if sparse_layer:\n",
        "      # reweigting parameters\n",
        "      reweights = reweighting['reweights'][i]\n",
        "      _lambda = reweighting['lambda']\n",
        "      model.add(tf.keras.layers.Dense(n_nodes, activation=activation, kernel_regularizer=WeightedL1(reweights, _lambda=_lambda)))\n",
        "    else:\n",
        "      model.add(tf.keras.layers.Dense(n_nodes, activation=activation))\n",
        "\n",
        "  # compile new model\n",
        "  model.compile(\n",
        "    optimizer=tf.keras.optimizers.Adam(0.001),\n",
        "    loss=tf.keras.losses.SparseCategoricalCrossentropy(from_logits=True),\n",
        "    metrics=[tf.keras.metrics.SparseCategoricalAccuracy()],\n",
        "  )\n",
        "\n",
        "  return model\n",
        "\n",
        "def structure_learning(model, model_structure, solver_opts, reweighting):\n",
        "  # calculate reweigting\n",
        "  for i in range(model_structure['n_layers']):\n",
        "    if model_structure['sparse_layer'][i]:\n",
        "      # get weights\n",
        "      weights, biases = model.layers[i+1].get_weights()\n",
        "\n",
        "      # update reweighting matrix\n",
        "      reweights = get_reweights(weights, eps=1E-6)\n",
        "      reweighting['reweights'][i] = reweights\n",
        "\n",
        "      # create new model\n",
        "      model_new = create_model(model_structure, reweighting)\n",
        "\n",
        "      # set initial weights from previous model\n",
        "      #model_new.set_weights(model.get_weights())\n",
        "\n",
        "      # train model\n",
        "      model_new.fit(\n",
        "        ds_train,\n",
        "        epochs=solver_opts['epochs'],\n",
        "        validation_data=ds_test,\n",
        "      )\n",
        "\n",
        "      return model_new, reweighting"
      ],
      "metadata": {
        "id": "2MwydJIkdgWW"
      },
      "execution_count": null,
      "outputs": []
    },
    {
      "cell_type": "markdown",
      "metadata": {
        "id": "nTFoji3INMEM"
      },
      "source": [
        "## Step 2: Create and train the initial model\n",
        "\n",
        "Plug the TFDS input pipeline into a simple Keras model, compile the model, and train it."
      ]
    },
    {
      "cell_type": "code",
      "execution_count": null,
      "metadata": {
        "id": "XWqxdmS1NLKA"
      },
      "outputs": [],
      "source": [
        "model = tf.keras.models.Sequential([\n",
        "  tf.keras.layers.Flatten(input_shape=(28, 28)),\n",
        "  tf.keras.layers.Dense(128, activation='relu'),\n",
        "  tf.keras.layers.Dense(128, activation='relu'),\n",
        "  tf.keras.layers.Dense(10, activation='softmax')\n",
        "])\n",
        "model.compile(\n",
        "    optimizer=tf.keras.optimizers.Adam(0.001),\n",
        "    loss=tf.keras.losses.SparseCategoricalCrossentropy(from_logits=True),\n",
        "    metrics=[tf.keras.metrics.SparseCategoricalAccuracy()],\n",
        ")\n",
        "\n",
        "model.fit(\n",
        "    ds_train,\n",
        "    epochs=6,\n",
        "    validation_data=ds_test,\n",
        ")\n"
      ]
    },
    {
      "cell_type": "code",
      "source": [
        "inspect_weights(model, eps=1E-4)\n",
        "print(model.weights[2].shape)"
      ],
      "metadata": {
        "id": "JzSzMxWIfJaA"
      },
      "execution_count": null,
      "outputs": []
    },
    {
      "cell_type": "markdown",
      "source": [
        "# Retrain the model with sparse optimization\n"
      ],
      "metadata": {
        "id": "5x4PbO43Zxco"
      }
    },
    {
      "cell_type": "code",
      "source": [
        "model_structure = {\n",
        "    'n_layers': 3,\n",
        "    'input_shape': (28,28),\n",
        "    'layer_structure': [128, 128, 10],\n",
        "    'sparse_layer': [False, True, False],\n",
        "    'layer_activation': ['relu', 'relu', 'softmax'],\n",
        "}\n",
        "\n",
        "reweighting = {\n",
        "    'reweights': [None, None, None],\n",
        "    'lambda': 1/(128 * 128)\n",
        "}\n",
        "\n",
        "solver_opts = {\n",
        "    'epochs': 6\n",
        "}\n",
        "\n",
        "ITERATIONS = 4\n",
        "eps = 1E-4\n",
        "\n",
        "for it in range(ITERATIONS):\n",
        "  print(f'############ ITERATION {it} ############')\n",
        "  # train model with reweighting\n",
        "  model, reweighting = structure_learning(model, model_structure, solver_opts, reweighting)\n",
        "\n",
        "  # set small weights to zero in sparse layers\n",
        "  for i in range(model_structure['n_layers']):\n",
        "    if model_structure['sparse_layer'][i]:\n",
        "      # get the weights from the layer\n",
        "      weights, biases = model.layers[i+1].get_weights()\n",
        "      # set weights that are <= eps to zero\n",
        "      weights = np.where(np.abs(weights) <= eps, 0, weights)\n",
        "      # get the modified weights back to the layer\n",
        "      model.layers[i+1].set_weights([weights, biases])\n",
        "\n",
        "  # Re-calculate validation accuracy\n",
        "  val_loss, val_accuracy = model.evaluate(ds_test)\n",
        "\n",
        "  print(f\"Validation accuracy: {val_accuracy}\")\n",
        "  print(f\"Validation loss: {val_loss}\")\n",
        "  inspect_weights(model, eps=1E-4)\n",
        "\n"
      ],
      "metadata": {
        "id": "1XkiJIFYZw1Z"
      },
      "execution_count": null,
      "outputs": []
    }
  ],
  "metadata": {
    "colab": {
      "private_outputs": true,
      "provenance": [],
      "toc_visible": true,
      "include_colab_link": true
    },
    "kernelspec": {
      "display_name": "Python 3",
      "name": "python3"
    }
  },
  "nbformat": 4,
  "nbformat_minor": 0
}