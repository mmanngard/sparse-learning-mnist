{
  "cells": [
    {
      "cell_type": "markdown",
      "metadata": {
        "id": "view-in-github",
        "colab_type": "text"
      },
      "source": [
        "<a href=\"https://colab.research.google.com/github/mmanngard/sparse-learning-mnist/blob/main/sparse_learning_mnist.ipynb\" target=\"_parent\"><img src=\"https://colab.research.google.com/assets/colab-badge.svg\" alt=\"Open In Colab\"/></a>"
      ]
    },
    {
      "cell_type": "markdown",
      "metadata": {
        "id": "USSV_OlCFKOD"
      },
      "source": [
        "# Sparse Structural Learning on MNIST\n",
        "This simple example demonstrates how to plug TensorFlow Datasets (TFDS) into a Keras model and to enforse sparsity.\n"
      ]
    },
    {
      "cell_type": "markdown",
      "metadata": {
        "id": "J8y9ZkLXmAZc"
      },
      "source": [
        "Copyright 2020 The TensorFlow Datasets Authors, Licensed under the Apache License, Version 2.0"
      ]
    },
    {
      "cell_type": "markdown",
      "metadata": {
        "id": "OGw9EgE0tC0C"
      },
      "source": [
        "<table class=\"tfo-notebook-buttons\" align=\"left\">\n",
        "  <td>\n",
        "    <a target=\"_blank\" href=\"https://www.tensorflow.org/datasets/keras_example\"><img src=\"https://www.tensorflow.org/images/tf_logo_32px.png\" />View on TensorFlow.org</a>\n",
        "  </td>\n",
        "  <td>\n",
        "    <a target=\"_blank\" href=\"https://colab.research.google.com/github/tensorflow/datasets/blob/master/docs/keras_example.ipynb\"><img src=\"https://www.tensorflow.org/images/colab_logo_32px.png\" />Run in Google Colab</a>\n",
        "  </td>\n",
        "  <td>\n",
        "    <a target=\"_blank\" href=\"https://github.com/tensorflow/datasets/blob/master/docs/keras_example.ipynb\"><img src=\"https://www.tensorflow.org/images/GitHub-Mark-32px.png\" />View source on GitHub</a>\n",
        "  </td>\n",
        "  <td>\n",
        "    <a href=\"https://storage.googleapis.com/tensorflow_docs/datasets/docs/keras_example.ipynb\"><img src=\"https://www.tensorflow.org/images/download_logo_32px.png\" />Download notebook</a>\n",
        "  </td>\n",
        "</table>"
      ]
    },
    {
      "cell_type": "code",
      "execution_count": null,
      "metadata": {
        "id": "TTBSvHcSLBzc"
      },
      "outputs": [],
      "source": [
        "import tensorflow as tf\n",
        "import tensorflow_datasets as tfds\n",
        "import numpy as np\n",
        "import matplotlib.pyplot as plt\n"
      ]
    },
    {
      "cell_type": "markdown",
      "metadata": {
        "id": "VjI6VgOBf0v0"
      },
      "source": [
        "## Step 1: Create your input pipeline\n",
        "\n",
        "Start by building an efficient input pipeline using advices from:\n",
        "* The [Performance tips](https://www.tensorflow.org/datasets/performances) guide\n",
        "* The [Better performance with the `tf.data` API](https://www.tensorflow.org/guide/data_performance#optimize_performance) guide\n"
      ]
    },
    {
      "cell_type": "markdown",
      "metadata": {
        "id": "c3aH3vP_XLI8"
      },
      "source": [
        "### Load a dataset\n",
        "\n",
        "Load the MNIST dataset with the following arguments:\n",
        "\n",
        "* `shuffle_files=True`: The MNIST data is only stored in a single file, but for larger datasets with multiple files on disk, it's good practice to shuffle them when training.\n",
        "* `as_supervised=True`: Returns a tuple `(img, label)` instead of a dictionary `{'image': img, 'label': label}`."
      ]
    },
    {
      "cell_type": "code",
      "execution_count": null,
      "metadata": {
        "id": "ZUMhCXhFXdHQ"
      },
      "outputs": [],
      "source": [
        "(ds_train, ds_test), ds_info = tfds.load(\n",
        "    'mnist',\n",
        "    split=['train', 'test'],\n",
        "    shuffle_files=True,\n",
        "    as_supervised=True,\n",
        "    with_info=True,\n",
        ")"
      ]
    },
    {
      "cell_type": "markdown",
      "metadata": {
        "id": "rgwCFAcWXQTx"
      },
      "source": [
        "### Build a training pipeline\n",
        "\n",
        "Apply the following transformations:\n",
        "\n",
        "* `tf.data.Dataset.map`: TFDS provide images of type `tf.uint8`, while the model expects `tf.float32`. Therefore, you need to normalize images.\n",
        "* `tf.data.Dataset.cache` As you fit the dataset in memory, cache it before shuffling for a better performance.<br/>\n",
        "__Note:__ Random transformations should be applied after caching.\n",
        "* `tf.data.Dataset.shuffle`: For true randomness, set the shuffle buffer to the full dataset size.<br/>\n",
        "__Note:__ For large datasets that can't fit in memory, use `buffer_size=1000` if your system allows it.\n",
        "* `tf.data.Dataset.batch`: Batch elements of the dataset after shuffling to get unique batches at each epoch.\n",
        "* `tf.data.Dataset.prefetch`: It is good practice to end the pipeline by prefetching [for performance](https://www.tensorflow.org/guide/data_performance#prefetching)."
      ]
    },
    {
      "cell_type": "code",
      "execution_count": null,
      "metadata": {
        "id": "haykx2K9XgiI"
      },
      "outputs": [],
      "source": [
        "def normalize_img(image, label, threshold=0.5):\n",
        "  \"\"\"Normalizes images: `uint8` -> `float32`.\"\"\"\n",
        "  image = tf.cast(image, tf.float32) / 255.0\n",
        "  image = tf.where(image > threshold, 1.0, 0.0)\n",
        "  return image, label\n",
        "\n",
        "ds_train = ds_train.map(\n",
        "    normalize_img, num_parallel_calls=tf.data.AUTOTUNE)\n",
        "ds_train = ds_train.cache()\n",
        "ds_train = ds_train.shuffle(ds_info.splits['train'].num_examples)\n",
        "ds_train = ds_train.batch(128)\n",
        "ds_train = ds_train.prefetch(tf.data.AUTOTUNE)"
      ]
    },
    {
      "cell_type": "markdown",
      "metadata": {
        "id": "RbsMy4X1XVFv"
      },
      "source": [
        "### Build an evaluation pipeline\n",
        "\n",
        "Your testing pipeline is similar to the training pipeline with small differences:\n",
        "\n",
        " * You don't need to call `tf.data.Dataset.shuffle`.\n",
        " * Caching is done after batching because batches can be the same between epochs."
      ]
    },
    {
      "cell_type": "code",
      "execution_count": null,
      "metadata": {
        "id": "A0KjuDf7XiqY"
      },
      "outputs": [],
      "source": [
        "ds_test = ds_test.map(\n",
        "    normalize_img, num_parallel_calls=tf.data.AUTOTUNE)\n",
        "ds_test = ds_test.batch(128)\n",
        "ds_test = ds_test.cache()\n",
        "ds_test = ds_test.prefetch(tf.data.AUTOTUNE)"
      ]
    },
    {
      "cell_type": "markdown",
      "source": [
        "# Training utils"
      ],
      "metadata": {
        "id": "lnAcvHv7-1_M"
      }
    },
    {
      "cell_type": "code",
      "source": [
        "def sparse_structure_learning(model, _lambda, eps, epochs):\n",
        "  # compute reweights\n",
        "  weights, biases = model.layers[2].get_weights()\n",
        "  print(weights.shape)\n",
        "  reweights = np.where(np.abs(weights) > eps, 1 / np.abs(weights), 1E8)\n",
        "\n",
        "  # regularizer\n",
        "  regularizer_l1_weighted = WeightedL1(reweights=reweights, _lambda=_lambda)\n",
        "\n",
        "  # create new model\n",
        "  new_model = tf.keras.models.Sequential([\n",
        "  tf.keras.layers.Flatten(input_shape=model_structure['input_shape']),\n",
        "  tf.keras.layers.Dense(model_structure['layer_structure'][0], activation=model_structure['layer_activation'][0]),\n",
        "  tf.keras.layers.Dense(model_structure['layer_structure'][1], activation=model_structure['layer_activation'][1], kernel_regularizer=regularizer_l1_weighted),\n",
        "  tf.keras.layers.Dense(model_structure['layer_structure'][2], activation=model_structure['layer_activation'][2])\n",
        "  ])\n",
        "  new_model.compile(\n",
        "      optimizer=tf.keras.optimizers.Adam(0.001),\n",
        "      loss=tf.keras.losses.SparseCategoricalCrossentropy(from_logits=False),\n",
        "      metrics=[tf.keras.metrics.SparseCategoricalAccuracy()],\n",
        "  )\n",
        "\n",
        "  # assign initial weight values\n",
        "  initial_weights = model.get_weights()\n",
        "  new_model.set_weights(initial_weights)\n",
        "\n",
        "  # train model\n",
        "  new_model.fit(\n",
        "      ds_train,\n",
        "      epochs=epochs,\n",
        "      validation_data=ds_test,\n",
        "  )\n",
        "\n",
        "  return new_model, reweights\n",
        "\n",
        "\n",
        "\n",
        "# Custom weighted l1 regularizer\n",
        "class WeightedL1(tf.keras.regularizers.Regularizer):\n",
        "    def __init__(self, reweights, _lambda):\n",
        "        self.reweights = tf.convert_to_tensor(reweights, dtype=tf.float32)  # Reweighting matrix\n",
        "        self._lambda = _lambda  # Regularization strength (lambda)\n",
        "\n",
        "    def __call__(self,  weights):\n",
        "        # Element-wise product between the reweighting matrix and the weights\n",
        "        weighted_weights = self.reweights * weights\n",
        "\n",
        "        # Compute the L1 norm of the element-wise product and multiply by lambda\n",
        "        weighted_l1 = self._lambda * tf.reduce_sum(tf.abs(weighted_weights))\n",
        "        return weighted_l1\n",
        "\n",
        "    def get_config(self):\n",
        "        return {'reweighting': self.reweighting.numpy(), 'l1': self._lambda}\n",
        "\n",
        "\n",
        "\n",
        "def inspect_weights(model, eps):\n",
        "  '''Get information of weights in layers'''\n",
        "  for layer in model.layers:\n",
        "      if len(layer.get_weights()) > 0:  # Check if the layer has any weights (some layers, like Flatten, don't)\n",
        "          weights, biases = layer.get_weights()\n",
        "          shape = weights.shape\n",
        "          n_weights = shape[0]*shape[1]\n",
        "          n_zero = np.sum(np.abs(weights) < eps)\n",
        "          print(f\"Layer {layer.name}:\")\n",
        "          print(f\"Weights shape: {weights.shape}\")\n",
        "          print(f\"# zero weights/total: {n_zero}/{n_weights}, {n_zero/n_weights * 100 :.2f} % sparse\")\n",
        "      else:\n",
        "          print(f\"Layer {layer.name} has no weights.\")\n"
      ],
      "metadata": {
        "id": "f_K9WGVl-2Hw"
      },
      "execution_count": null,
      "outputs": []
    },
    {
      "cell_type": "markdown",
      "metadata": {
        "id": "nTFoji3INMEM"
      },
      "source": [
        "## Step 2: Create and train the initial model\n",
        "\n",
        "Plug the TFDS input pipeline into a simple Keras model, compile the model, and train it."
      ]
    },
    {
      "cell_type": "code",
      "source": [
        "model_structure = {\n",
        "    'n_layers': 3,\n",
        "    'input_shape': (28,28),\n",
        "    'layer_structure': [128, 128, 10],\n",
        "    'sparse_layer': [False, True, False],\n",
        "    'layer_activation': ['relu', 'relu', 'softmax'],\n",
        "}\n",
        "\n",
        "reweighting = {\n",
        "    'reweights': [None, None, None],\n",
        "    'lambda': 1/1000,\n",
        "    'eps': 1E-4\n",
        "}\n",
        "\n",
        "solver_opts = {\n",
        "    'epochs': 6\n",
        "}\n",
        "\n",
        "model_ini = tf.keras.models.Sequential([\n",
        "  tf.keras.layers.Flatten(input_shape=model_structure['input_shape']),\n",
        "  tf.keras.layers.Dense(model_structure['layer_structure'][0], activation=model_structure['layer_activation'][0]),\n",
        "  tf.keras.layers.Dense(model_structure['layer_structure'][1], activation=model_structure['layer_activation'][1]),\n",
        "  tf.keras.layers.Dense(model_structure['layer_structure'][2], activation=model_structure['layer_activation'][2])\n",
        "])\n",
        "model_ini.compile(\n",
        "    optimizer=tf.keras.optimizers.Adam(0.001),\n",
        "    loss=tf.keras.losses.SparseCategoricalCrossentropy(from_logits=False),\n",
        "    metrics=[tf.keras.metrics.SparseCategoricalAccuracy()],\n",
        ")\n",
        "\n",
        "model_ini.fit(\n",
        "    ds_train,\n",
        "    epochs=solver_opts['epochs'],\n",
        "    validation_data=ds_test,\n",
        ")\n"
      ],
      "metadata": {
        "id": "a4Y932_tk5_E"
      },
      "execution_count": null,
      "outputs": []
    },
    {
      "cell_type": "markdown",
      "source": [
        "## Step 3: Apply reweighted $\\ell_1$ regularization\n",
        "\n",
        "Strycture in ANN can be revieled by struvtural sparsity learning techniques."
      ],
      "metadata": {
        "id": "ucXe-Qme-mSJ"
      }
    },
    {
      "cell_type": "code",
      "source": [
        "# ####################\n",
        "ITERATIONS = 12\n",
        "_lambda = 0.0001\n",
        "eps = 1E-3\n",
        "epochs = 1\n",
        "# ####################\n",
        "\n",
        "fig, ax = plt.subplots(1, 1, figsize=(6,6))\n",
        "weights, biases = model_ini.layers[2].get_weights()\n",
        "ax.plot( np.sort( np.abs(weights.reshape(-1)) ) )\n",
        "print('---- iteration 0 ----')\n",
        "inspect_weights(model_ini, eps=eps)\n",
        "val_loss, val_accuracy = model_ini.evaluate(ds_test)\n",
        "print(f'val loss: {val_loss}')\n",
        "print(f'val accuracy: {val_accuracy}')\n",
        "print(' ')\n",
        "\n",
        "for i in range(ITERATIONS):\n",
        "  model, reweights = sparse_structure_learning(model_ini, _lambda=_lambda, eps=eps, epochs=epochs)\n",
        "\n",
        "  # set small weights to zero\n",
        "  weights, biases = model.layers[2].get_weights()\n",
        "  weights[np.abs(weights) < eps] = 0\n",
        "  model.layers[2].set_weights([weights, biases])\n",
        "\n",
        "  # plot\n",
        "  ax.plot( np.sort( np.abs(weights.reshape(-1)) ) )\n",
        "  #ax.set_yscale('log')\n",
        "\n",
        "  print(f'---- iteration {i+1} ----')\n",
        "  inspect_weights(model, eps=eps)\n",
        "  val_loss, val_accuracy = model.evaluate(ds_test)\n",
        "  print(f'val loss: {val_loss}')\n",
        "  print(f'val accuracy: {val_accuracy}')\n",
        "\n",
        "  print(' ')\n"
      ],
      "metadata": {
        "id": "vZuCnVkuvZKq"
      },
      "execution_count": null,
      "outputs": []
    },
    {
      "cell_type": "markdown",
      "source": [
        "# Test on my own handwritten numbers"
      ],
      "metadata": {
        "id": "hMbt89l1_DVL"
      }
    },
    {
      "cell_type": "code",
      "source": [
        "from tensorflow.keras.preprocessing import image\n",
        "\n",
        "# Load and preprocess your 28x28 image\n",
        "def preprocess_image(img_path, threshold=0.5):\n",
        "    # Load the image in grayscale mode (if it's not already in 28x28 size)\n",
        "    img = image.load_img(img_path, target_size=(28, 28), color_mode='grayscale')\n",
        "    img = image.img_to_array(img)\n",
        "    img = tf.cast(img, tf.float32) / 255.0\n",
        "    img = tf.where(img > threshold, 1.0, 0.0)\n",
        "    img = tf.reshape(img, (1, 28, 28, 1))\n",
        "    return img\n",
        "\n",
        "\n",
        "img_pths = ['my_zero.png', 'my_one.png', 'my_two.png', 'my_three.png', 'my_four.png', 'my_five.png', 'my_six.png', 'my_seven.png', 'my_eight.png', 'my_nine.png']\n",
        "\n",
        "for i, img_pth in enumerate(img_pths):\n",
        "    # Process the image (assuming preprocess_image is defined to return the image in the correct shape)\n",
        "    processed_image = preprocess_image(img_pth)\n",
        "\n",
        "    # Use the model to make a prediction\n",
        "    prediction = model.predict(processed_image)\n",
        "\n",
        "    # Get the predicted class (digit)\n",
        "    predicted_class = np.argmax(prediction, axis=1)[0]\n",
        "\n",
        "    # Display the processed image in the subplot\n",
        "    plt.imshow(tf.squeeze(processed_image).numpy(), cmap='gray')\n",
        "    plt.title(f'Prediction: {predicted_class}')\n",
        "\n",
        "    # Display all the subplots\n",
        "    plt.tight_layout()\n",
        "    plt.show()\n",
        "\n"
      ],
      "metadata": {
        "id": "G_90YEA0prKR"
      },
      "execution_count": null,
      "outputs": []
    },
    {
      "cell_type": "code",
      "source": [
        "# Shuffle the dataset to ensure random selection\n",
        "ds_test_shuffled = ds_test.shuffle(10000)  # Shuffle the dataset\n",
        "\n",
        "# Extract a batch from the shuffled dataset\n",
        "random_batch = next(iter(ds_test_shuffled))  # Get one batch (batch size = 128)\n",
        "\n",
        "# Get images and labels from the batch\n",
        "images, labels = random_batch  # `images` is a batch of 128 images, `labels` are the corresponding labels\n",
        "\n",
        "# Select a random image from the batch\n",
        "random_index = np.random.randint(0, images.shape[0])  # Random index from 0 to batch size - 1\n",
        "random_image = images[random_index]\n",
        "random_label = labels[random_index]\n",
        "\n",
        "# Preprocess the image (if necessary, depending on your model)\n",
        "processed_image = tf.reshape(random_image, (1, 28, 28, 1))  # Add batch and channel dimensions\n",
        "\n",
        "# Use the model to predict the class of the image\n",
        "prediction = model.predict(processed_image)\n",
        "predicted_class = np.argmax(prediction, axis=1)[0]\n",
        "\n",
        "# Display the random image\n",
        "plt.imshow(tf.squeeze(random_image).numpy(), cmap='gray')  # Remove dimensions for visualization\n",
        "plt.title(f\"True Label: {random_label.numpy()}, Predicted Class: {predicted_class}\")\n",
        "plt.show()\n"
      ],
      "metadata": {
        "id": "sCKI1L4aGgUT"
      },
      "execution_count": null,
      "outputs": []
    }
  ],
  "metadata": {
    "colab": {
      "private_outputs": true,
      "provenance": [],
      "include_colab_link": true
    },
    "kernelspec": {
      "display_name": "Python 3",
      "name": "python3"
    }
  },
  "nbformat": 4,
  "nbformat_minor": 0
}